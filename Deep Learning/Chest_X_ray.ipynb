{
  "nbformat": 4,
  "nbformat_minor": 0,
  "metadata": {
    "colab": {
      "name": "Chest X-ray",
      "provenance": []
    },
    "kernelspec": {
      "name": "python3",
      "display_name": "Python 3"
    },
    "language_info": {
      "name": "python"
    }
  },
  "cells": [
    {
      "cell_type": "code",
      "metadata": {
        "colab": {
          "base_uri": "https://localhost:8080/"
        },
        "id": "79b6JBqpECY1",
        "outputId": "60985e28-2d11-4b5b-f5c4-9fc440f39550"
      },
      "source": [
        "#the dataset is imported from a google drive\n",
        "from google.colab import drive\n",
        "\n",
        "drive.mount(\"/content/drive\", force_remount=True)"
      ],
      "execution_count": null,
      "outputs": [
        {
          "output_type": "stream",
          "name": "stdout",
          "text": [
            "Mounted at /content/drive\n"
          ]
        }
      ]
    },
    {
      "cell_type": "code",
      "metadata": {
        "colab": {
          "base_uri": "https://localhost:8080/"
        },
        "id": "KjsJems4EXDf",
        "outputId": "1d6debcb-322f-4ff2-c37d-cb2cc249ba85"
      },
      "source": [
        "import os #provides functions for interacting with the operating system\n",
        "\n",
        "#Exploring the paths of the dataset. \n",
        "#This is where our data is stored.\n",
        "print(os.listdir(\"/content/drive/MyDrive/SaaS/AI/\"))\n",
        "print(os.listdir('/content/drive/MyDrive/SaaS/AI/chest_xray/chest_xray'))"
      ],
      "execution_count": null,
      "outputs": [
        {
          "output_type": "stream",
          "name": "stdout",
          "text": [
            "['Machine.gsheet', 'DR.LITTLE.xlsx', 'Kibera.gsheet', 'chest_xray', 'Modified', '.ipynb_checkpoints', 'vgg16_weights_tf_dim_ordering_tf_kernels_notop.h5', 'best_model.hdf5']\n",
            "['.DS_Store', 'test', 'val', 'train']\n"
          ]
        }
      ]
    },
    {
      "cell_type": "markdown",
      "metadata": {
        "id": "w2e0ktKMMndG"
      },
      "source": [
        "##**Dataset**"
      ]
    },
    {
      "cell_type": "markdown",
      "metadata": {
        "id": "svneEML4MVeH"
      },
      "source": [
        "The Chest X-ray data we are using is from [Cell](https://www.cell.com/cell/home). It divides the data into train, val, and test files.\n",
        "\n",
        "1. The training image set are used to train the neural network\n",
        "2. The testing image set evaluate the quality of the neural network\n",
        "3. The validation set check underfitting or overfitting of the model and the results in real time"
      ]
    },
    {
      "cell_type": "code",
      "metadata": {
        "colab": {
          "base_uri": "https://localhost:8080/"
        },
        "id": "1a3gibb1FXna",
        "outputId": "197a426a-6bc2-4762-d206-184e314b48ec"
      },
      "source": [
        "#the dataset in the directory is divided into three sets: train, test and validation\n",
        "\n",
        "data_dir = '/content/drive/MyDrive/SaaS/AI/chest_xray/chest_xray'\n",
        "\n",
        "os.listdir(data_dir)\n",
        "# this method is used to get the list of all files directories in the specified directory."
      ],
      "execution_count": null,
      "outputs": [
        {
          "output_type": "execute_result",
          "data": {
            "text/plain": [
              "['.DS_Store', 'test', 'val', 'train']"
            ]
          },
          "metadata": {},
          "execution_count": 3
        }
      ]
    },
    {
      "cell_type": "code",
      "metadata": {
        "colab": {
          "base_uri": "https://localhost:8080/"
        },
        "id": "3ukB4He8Ezfv",
        "outputId": "b1a4cf15-d7dc-4f2f-9535-b24b925656cb"
      },
      "source": [
        "# the os.path.join() method is ued to join one or more path components intelligentlyinto a single path\n",
        "\n",
        "# Each path contains normal and pneumonia x-ray images\n",
        "\n",
        "train_dir = os.path.join(data_dir, 'train')\n",
        "\n",
        "val_dir = os.path.join(data_dir, 'val')\n",
        "\n",
        "test_dir = os.path.join(data_dir, 'test')\n",
        "\n",
        "train_dir, val_dir, test_dir, os.listdir(train_dir), os.listdir(val_dir), os.listdir(test_dir)"
      ],
      "execution_count": null,
      "outputs": [
        {
          "output_type": "execute_result",
          "data": {
            "text/plain": [
              "('/content/drive/MyDrive/SaaS/AI/chest_xray/chest_xray/train',\n",
              " '/content/drive/MyDrive/SaaS/AI/chest_xray/chest_xray/val',\n",
              " '/content/drive/MyDrive/SaaS/AI/chest_xray/chest_xray/test',\n",
              " ['.DS_Store', 'PNEUMONIA', 'NORMAL'],\n",
              " ['.DS_Store', 'NORMAL', 'PNEUMONIA'],\n",
              " ['.DS_Store', 'PNEUMONIA', 'NORMAL'])"
            ]
          },
          "metadata": {},
          "execution_count": 4
        }
      ]
    },
    {
      "cell_type": "markdown",
      "metadata": {
        "id": "WTCNQMB6KeI4"
      },
      "source": [
        "#**Viewing the dataset**"
      ]
    },
    {
      "cell_type": "code",
      "metadata": {
        "colab": {
          "base_uri": "https://localhost:8080/",
          "height": 238
        },
        "id": "qRnWVoxyNI2a",
        "outputId": "7ab9832d-b518-4c4c-97e3-3f90f5867f92"
      },
      "source": [
        "import matplotlib.pyplot as plt \n",
        "\n",
        "\n",
        "# Plotting images from the datasets\n",
        "img_test_normal = plt.imread('/content/drive/MyDrive/SaaS/AI/chest_xray/chest_xray/test/NORMAL/IM-0001-0001.jpeg')\n",
        "img_train_pneumonia = plt.imread('/content/drive/MyDrive/SaaS/AI/chest_xray/chest_xray/train/PNEUMONIA/person1000_bacteria_2931.jpeg')\n",
        "img_val_pneumonia = plt.imread('/content/drive/MyDrive/SaaS/AI/chest_xray/chest_xray/val/PNEUMONIA/person1946_bacteria_4874.jpeg')\n",
        "plt.figure(figsize=(12, 5))\n",
        "\n",
        "plt.subplot(1,3,1).set_title('TEST NORMAL')\n",
        "plt.imshow(img_test_normal, cmap='gray')\n",
        "\n",
        "plt.subplot(1,3,2).set_title('TRAIN PNEUMONIA')\n",
        "plt.imshow(img_train_pneumonia, cmap='gray')\n",
        "\n",
        "plt.subplot(1,3,3).set_title('VAL PNEUMONIA')\n",
        "plt.imshow(img_val_pneumonia, cmap='gray')\n",
        "\n",
        "plt.tight_layout()"
      ],
      "execution_count": null,
      "outputs": [
        {
          "output_type": "display_data",
          "data": {
            "image/png": "[encoded data removed]",
            "text/plain": [
              "<Figure size 864x360 with 3 Axes>"
            ]
          },
          "metadata": {
            "needs_background": "light"
          }
        }
      ]
    },
    {
      "cell_type": "markdown",
      "metadata": {
        "id": "nNNpBp3GW28-"
      },
      "source": [
        "### **Creating pandas dataframe the  dataset**"
      ]
    },
    {
      "cell_type": "code",
      "metadata": {
        "id": "CrQrDgsLPFCS"
      },
      "source": [
        "import pandas as pd # data processing\n",
        "\n",
        "# Getting image paths and creating pandas dataframe for each dataset (train/val/test)\n",
        "train_n = [('/content/drive/MyDrive/SaaS/AI/chest_xray/chest_xray/train/NORMAL/' + filename,0) for count, filename in enumerate(os.listdir('/content/drive/MyDrive/SaaS/AI/chest_xray/chest_xray/train/NORMAL'))]\n",
        "train_p = [('/content/drive/MyDrive/SaaS/AI/chest_xray/chest_xray/train/PNEUMONIA/' + filename,1) for count, filename in enumerate(os.listdir('/content/drive/MyDrive/SaaS/AI/chest_xray/chest_xray/train/PNEUMONIA'))]\n",
        "val_p = [('/content/drive/MyDrive/SaaS/AI/chest_xray/chest_xray/val/PNEUMONIA' + filename,1) for count, filename in enumerate(os.listdir('/content/drive/MyDrive/SaaS/AI/chest_xray/chest_xray/val/PNEUMONIA'))]\n",
        "val_n = [('/content/drive/MyDrive/SaaS/AI/chest_xray/chest_xray/val/NORMAL/' + filename,0) for count, filename in enumerate(os.listdir('/content/drive/MyDrive/SaaS/AI/chest_xray/chest_xray/val/NORMAL'))]\n",
        "test_n = [('/content/drive/MyDrive/SaaS/AI/chest_xray/chest_xray/test/NORMAL/' + filename,0) for count, filename in enumerate(os.listdir('/content/drive/MyDrive/SaaS/AI/chest_xray/chest_xray/test/NORMAL'))]\n",
        "test_p = [('/content/drive/MyDrive/SaaS/AI/chest_xray/chest_xray/test/PNEUMONIA/' + filename,1) for count, filename in enumerate(os.listdir('/content/drive/MyDrive/SaaS/AI/chest_xray/chest_xray/test/PNEUMONIA'))]\n",
        "\n",
        "train_data = pd.DataFrame(train_p + train_n, columns=['image_path', 'label'],index=None)\n",
        "val_data = pd.DataFrame(val_p + val_n, columns=['image_path', 'label'],index=None)\n",
        "test_data = pd.DataFrame(test_p + test_n, columns=['image_path', 'label'],index=None)"
      ],
      "execution_count": null,
      "outputs": []
    },
    {
      "cell_type": "markdown",
      "metadata": {
        "id": "f3zAvMInXIBO"
      },
      "source": [
        "We next check the dataset balance by plotting the image count for each class in each dataframe."
      ]
    },
    {
      "cell_type": "code",
      "metadata": {
        "colab": {
          "base_uri": "https://localhost:8080/",
          "height": 299
        },
        "id": "YJvwXA6fPPp4",
        "outputId": "3dcd55f5-c155-4838-a42a-588492694797"
      },
      "source": [
        "import seaborn as sb\n",
        "# Count plot of the class representations.\n",
        "\n",
        "plt.figure(figsize=(15,4))\n",
        "plt.subplot(1,3,1)\n",
        "sb.countplot(data= train_data, x='label')\n",
        "plt.title('Number of cases in training data', fontsize=14)\n",
        "plt.xlabel('Case type', fontsize=12)\n",
        "plt.ylabel('Count', fontsize=12)\n",
        "plt.xticks(range(len(train_data.label.unique())), ['Normal', 'Pneumonia'])\n",
        "\n",
        "plt.subplot(1,3,2)\n",
        "sb.countplot(data= val_data, x='label')\n",
        "plt.title('Number of cases in validation data', fontsize=14)\n",
        "plt.xlabel('Case type', fontsize=12)\n",
        "plt.ylabel('Count', fontsize=12)\n",
        "plt.xticks(range(len(val_data.label.unique())), ['Normal', 'Pneumonia'])\n",
        "\n",
        "plt.subplot(1,3,3)\n",
        "sb.countplot(data= test_data, x='label')\n",
        "plt.title('Number of cases in test data', fontsize=14)\n",
        "plt.xlabel('Case type', fontsize=12)\n",
        "plt.ylabel('Count', fontsize=12)\n",
        "plt.xticks(range(len(test_data.label.unique())), ['Normal', 'Pneumonia']);"
      ],
      "execution_count": null,
      "outputs": [
        {
          "output_type": "display_data",
          "data": {
            "image/png": "[encoded data removed]",
            "text/plain": [
              "<Figure size 1080x288 with 3 Axes>"
            ]
          },
          "metadata": {
            "needs_background": "light"
          }
        }
      ]
    },
    {
      "cell_type": "markdown",
      "metadata": {
        "id": "GgiAg2PGX4Zq"
      },
      "source": [
        "The bar graph shows an imabalance in the data represented across the image paths. There is not enough validation data to train the model therefore we borrow some from the traning data."
      ]
    },
    {
      "cell_type": "code",
      "metadata": {
        "colab": {
          "base_uri": "https://localhost:8080/"
        },
        "id": "4XRdqyNj7SO1",
        "outputId": "4721bad6-a8c6-414a-978a-77247b098307"
      },
      "source": [
        "import tensorflow as tf\n",
        "import matplotlib.pyplot as plt\n",
        "from tensorflow.keras.utils import to_categorical\n",
        "from glob import glob\n",
        "import numpy as np\n",
        "import cv2\n",
        "\n",
        "# glob is a powerful tool in Python to help with file management and filtering. Glob helps to filter through large datasets and pull out only files that are of interest.\n",
        "\n",
        "# Get the path to the sub-directories\n",
        "\n",
        "cases_dir = \"/content/drive/MyDrive/SaaS/AI/chest_xray/chest_xray/val\"\n",
        "\n",
        "\n",
        "#glob uses different operators to broaden its searching abilities. The primary operator is *.\n",
        "\n",
        "normal_cases = glob(cases_dir+ \"/NORMAL/*.jpeg\") \n",
        "pneumonia_cases = glob(cases_dir+ \"/PNEUMONIA/*.jpeg\")\n",
        "\n",
        "# List that are going to contain validation images data and the corresponding labels\n",
        "valid_data = []\n",
        "valid_labels = []\n",
        "\n",
        "\n",
        "# Some images are in grayscale while majority of them contains 3 channels. So, if the image is grayscale, we will convert into a image with 3 channels.\n",
        "# We will normalize the pixel values and resizing all the images to 224x224 \n",
        "\n",
        "# Normal cases\n",
        "for img in normal_cases:\n",
        "    img = cv2.imread(str(img))\n",
        "    img = cv2.resize(img, (224,224))\n",
        "    if img.shape[1] ==1:\n",
        "      img = np.dstack([img, img, img])\n",
        "    img = cv2.cvtColor(img, cv2.COLOR_BGR2RGB)\n",
        "    img = img.astype(np.float32)/255.\n",
        "    label = to_categorical(0, num_classes=2)\n",
        "    valid_data.append(img)\n",
        "    valid_labels.append(label)\n",
        "                      \n",
        "# Pneumonia cases        \n",
        "for img in pneumonia_cases:\n",
        "    img = cv2.imread(str(img))\n",
        "    img = cv2.resize(img, (224,224))\n",
        "    if img.shape[2] ==1:\n",
        "        img = np.dstack([img, img, img])\n",
        "    img = cv2.cvtColor(img, cv2.COLOR_BGR2RGB)\n",
        "    img = img.astype(np.float32)/255.\n",
        "    label = to_categorical(1, num_classes=2)\n",
        "    valid_data.append(img)\n",
        "    valid_labels.append(label)\n",
        "    \n",
        "# Convert the list into numpy arrays\n",
        "valid_data = np.array(valid_data)\n",
        "valid_labels = np.array(valid_labels)\n",
        "\n",
        "print(\"Total number of validation examples: \", valid_data.shape)\n",
        "print(\"Total number of labels:\", valid_labels.shape)"
      ],
      "execution_count": null,
      "outputs": [
        {
          "output_type": "stream",
          "name": "stdout",
          "text": [
            "Total number of validation examples:  (16, 224, 224, 3)\n",
            "Total number of labels: (16, 2)\n"
          ]
        }
      ]
    },
    {
      "cell_type": "code",
      "metadata": {
        "colab": {
          "base_uri": "https://localhost:8080/",
          "height": 204
        },
        "id": "7DNJ-IW8F4wK",
        "outputId": "dd7b677d-3344-4602-fe81-9773464ddf13"
      },
      "source": [
        "import pandas as pd\n",
        "\n",
        "\n",
        "# Get the path to the normal and pneumonia sub-directories\n",
        "\n",
        "cases_d = \"/content/drive/MyDrive/SaaS/AI/chest_xray/chest_xray/train\"\n",
        "\n",
        "# Get the list of all the images\n",
        "normal_cases = glob(cases_d+ \"/NORMAL/*.jpeg\") \n",
        "pneumonia_cases = glob(cases_d+ \"/PNEUMONIA/*.jpeg\")\n",
        "\n",
        "# An empty list. We will insert the data into this list in (img_path, label) format\n",
        "train_data = []\n",
        "\n",
        "# Go through all the normal cases. The label for these cases will be 0\n",
        "for img in normal_cases:\n",
        "    train_data.append((img,0))\n",
        "\n",
        "# Go through all the pneumonia cases. The label for these cases will be 1\n",
        "for img in pneumonia_cases:\n",
        "    train_data.append((img, 1))\n",
        "\n",
        "# Get a pandas dataframe from the data we have in our list \n",
        "train_data = pd.DataFrame(train_data, columns=['image', 'label'],index=None)\n",
        "\n",
        "# Shuffle the data \n",
        "train_data = train_data.sample(frac=1.).reset_index(drop=True)\n",
        "\n",
        "# How the dataframe looks like?\n",
        "train_data.head()"
      ],
      "execution_count": null,
      "outputs": [
        {
          "output_type": "execute_result",
          "data": {
            "text/html": [
              "<div>\n",
              "<style scoped>\n",
              "    .dataframe tbody tr th:only-of-type {\n",
              "        vertical-align: middle;\n",
              "    }\n",
              "\n",
              "    .dataframe tbody tr th {\n",
              "        vertical-align: top;\n",
              "    }\n",
              "\n",
              "    .dataframe thead th {\n",
              "        text-align: right;\n",
              "    }\n",
              "</style>\n",
              "<table border=\"1\" class=\"dataframe\">\n",
              "  <thead>\n",
              "    <tr style=\"text-align: right;\">\n",
              "      <th></th>\n",
              "      <th>image</th>\n",
              "      <th>label</th>\n",
              "    </tr>\n",
              "  </thead>\n",
              "  <tbody>\n",
              "    <tr>\n",
              "      <th>0</th>\n",
              "      <td>/content/drive/MyDrive/SaaS/AI/chest_xray/ches...</td>\n",
              "      <td>0</td>\n",
              "    </tr>\n",
              "    <tr>\n",
              "      <th>1</th>\n",
              "      <td>/content/drive/MyDrive/SaaS/AI/chest_xray/ches...</td>\n",
              "      <td>1</td>\n",
              "    </tr>\n",
              "    <tr>\n",
              "      <th>2</th>\n",
              "      <td>/content/drive/MyDrive/SaaS/AI/chest_xray/ches...</td>\n",
              "      <td>1</td>\n",
              "    </tr>\n",
              "    <tr>\n",
              "      <th>3</th>\n",
              "      <td>/content/drive/MyDrive/SaaS/AI/chest_xray/ches...</td>\n",
              "      <td>1</td>\n",
              "    </tr>\n",
              "    <tr>\n",
              "      <th>4</th>\n",
              "      <td>/content/drive/MyDrive/SaaS/AI/chest_xray/ches...</td>\n",
              "      <td>1</td>\n",
              "    </tr>\n",
              "  </tbody>\n",
              "</table>\n",
              "</div>"
            ],
            "text/plain": [
              "                                               image  label\n",
              "0  /content/drive/MyDrive/SaaS/AI/chest_xray/ches...      0\n",
              "1  /content/drive/MyDrive/SaaS/AI/chest_xray/ches...      1\n",
              "2  /content/drive/MyDrive/SaaS/AI/chest_xray/ches...      1\n",
              "3  /content/drive/MyDrive/SaaS/AI/chest_xray/ches...      1\n",
              "4  /content/drive/MyDrive/SaaS/AI/chest_xray/ches...      1"
            ]
          },
          "metadata": {},
          "execution_count": 9
        }
      ]
    },
    {
      "cell_type": "markdown",
      "metadata": {
        "id": "GL03Znfjc6-u"
      },
      "source": [
        "## **Data Augmentation**\n",
        "\n",
        "Data augmentation is a great technique which helps in almost every case for improving the robustness of a model, especially when the dataset is imbalanced. It refers to the enhancement of incomplete or scarse images in the dataset for the purpose of machine learning. In this notebook I use\n",
        "imgaug because it comes with a very clean api and offers various augmentations methods."
      ]
    },
    {
      "cell_type": "code",
      "metadata": {
        "id": "9cW4Rb2PapMp"
      },
      "source": [
        "import imgaug.augmenters as iaa\n",
        " \n",
        "# Augmentation sequence \n",
        "seq = iaa.OneOf([\n",
        "    iaa.Fliplr(), # horizontal flips\n",
        "    iaa.Affine(rotate=20), # roatation\n",
        "    iaa.Multiply((1.2, 1.5))]) #random brightness"
      ],
      "execution_count": null,
      "outputs": []
    },
    {
      "cell_type": "markdown",
      "metadata": {
        "id": "Lu9ofxe0xDFB"
      },
      "source": [
        "### **Training data generator**"
      ]
    },
    {
      "cell_type": "code",
      "metadata": {
        "id": "TI3_-OKNv9yQ"
      },
      "source": [
        "#this is a simple data generator.\n",
        "\n",
        "def data_gen(data, batch_size):\n",
        "    # Get total number of samples in the data\n",
        "    n = len(data)\n",
        "    steps = n//batch_size\n",
        "    \n",
        "    # Define two numpy arrays for containing batch data and labels\n",
        "    batch_data = np.zeros((batch_size, 224, 224, 3), dtype=np.float32)\n",
        "    batch_labels = np.zeros((batch_size,2), dtype=np.float32)\n",
        "\n",
        "    # Get a numpy array of all the indices of the input data\n",
        "    indices = np.arange(n)\n",
        "    \n",
        "    # Initialize a counter\n",
        "    i =0\n",
        "    while True:\n",
        "        np.random.shuffle(indices)\n",
        "        # Get the next batch \n",
        "        count = 0\n",
        "        next_batch = indices[(i*batch_size):(i+1)*batch_size]\n",
        "        for j, idx in enumerate(next_batch):\n",
        "            img_name = data.iloc[idx]['image']\n",
        "            label = data.iloc[idx]['label']\n",
        "            \n",
        "            # one hot encoding\n",
        "            encoded_label = to_categorical(label, num_classes=2)\n",
        "            # read the image and resize\n",
        "            img = cv2.imread(str(img_name))\n",
        "            img = cv2.resize(img, (224,224))\n",
        "            \n",
        "            # check if it's grayscale\n",
        "            if img.shape[2]==1:\n",
        "                img = np.dstack([img, img, img])\n",
        "            \n",
        "            # cv2 reads in BGR mode by default\n",
        "            orig_img = cv2.cvtColor(img, cv2.COLOR_BGR2RGB)\n",
        "            # normalize the image pixels\n",
        "            orig_img = img.astype(np.float32)/255.\n",
        "            \n",
        "            batch_data[count] = orig_img\n",
        "            batch_labels[count] = encoded_label\n",
        "            \n",
        "            # generating more samples of the undersampled class\n",
        "            if label==0 and count < batch_size-2:\n",
        "                aug_img1 = seq.augment_image(img)\n",
        "                aug_img2 = seq.augment_image(img)\n",
        "                aug_img1 = cv2.cvtColor(aug_img1, cv2.COLOR_BGR2RGB)\n",
        "                aug_img2 = cv2.cvtColor(aug_img2, cv2.COLOR_BGR2RGB)\n",
        "                aug_img1 = aug_img1.astype(np.float32)/255.\n",
        "                aug_img2 = aug_img2.astype(np.float32)/255.\n",
        "\n",
        "                batch_data[count+1] = aug_img1\n",
        "                batch_labels[count+1] = encoded_label\n",
        "                batch_data[count+2] = aug_img2\n",
        "                batch_labels[count+2] = encoded_label\n",
        "                count +=2\n",
        "            \n",
        "            else:\n",
        "                count+=1\n",
        "            \n",
        "            if count==batch_size-1:\n",
        "                break\n",
        "            \n",
        "        i+=1\n",
        "        yield batch_data, batch_labels\n",
        "            \n",
        "        if i>=steps:\n",
        "            i=0"
      ],
      "execution_count": null,
      "outputs": []
    },
    {
      "cell_type": "code",
      "metadata": {
        "id": "tYn_x_9jzQtP"
      },
      "source": [
        "\n",
        "from keras.layers import Conv2D, MaxPooling2D, Dense, Dropout, Input, Flatten, SeparableConv2D\n",
        "from tensorflow.keras.layers import BatchNormalization\n",
        "\n",
        "\n",
        "def build_model():\n",
        "    input_img = Input(shape=(224,224,3), name='ImageInput')\n",
        "    x = Conv2D(64, (3,3), activation='relu', padding='same', name='Conv1_1')(input_img)\n",
        "    x = Conv2D(64, (3,3), activation='relu', padding='same', name='Conv1_2')(x)\n",
        "    x = MaxPooling2D((2,2), name='pool1')(x)\n",
        "    \n",
        "    x = SeparableConv2D(128, (3,3), activation='relu', padding='same', name='Conv2_1')(x)\n",
        "    x = SeparableConv2D(128, (3,3), activation='relu', padding='same', name='Conv2_2')(x)\n",
        "    x = MaxPooling2D((2,2), name='pool2')(x)\n",
        "    \n",
        "    x = SeparableConv2D(256, (3,3), activation='relu', padding='same', name='Conv3_1')(x)\n",
        "    x = BatchNormalization(name='bn1')(x)\n",
        "    x = SeparableConv2D(256, (3,3), activation='relu', padding='same', name='Conv3_2')(x)\n",
        "    x = BatchNormalization(name='bn2')(x)\n",
        "    x = SeparableConv2D(256, (3,3), activation='relu', padding='same', name='Conv3_3')(x)\n",
        "    x = MaxPooling2D((2,2), name='pool3')(x)\n",
        "    \n",
        "    x = SeparableConv2D(512, (3,3), activation='relu', padding='same', name='Conv4_1')(x)\n",
        "    x = BatchNormalization(name='bn3')(x)\n",
        "    x = SeparableConv2D(512, (3,3), activation='relu', padding='same', name='Conv4_2')(x)\n",
        "    x = BatchNormalization(name='bn4')(x)\n",
        "    x = SeparableConv2D(512, (3,3), activation='relu', padding='same', name='Conv4_3')(x)\n",
        "    x = MaxPooling2D((2,2), name='pool4')(x)\n",
        "    \n",
        "    x = Flatten(name='flatten')(x)\n",
        "    x = Dense(1024, activation='relu', name='fc1')(x)\n",
        "    x = Dropout(0.7, name='dropout1')(x)\n",
        "    x = Dense(512, activation='relu', name='fc2')(x)\n",
        "    x = Dropout(0.5, name='dropout2')(x)\n",
        "    x = Dense(2, activation='softmax', name='fc3')(x)\n",
        "    \n",
        "    model = Model(inputs=input_img, outputs=x)\n",
        "    return model"
      ],
      "execution_count": null,
      "outputs": []
    },
    {
      "cell_type": "code",
      "metadata": {
        "colab": {
          "base_uri": "https://localhost:8080/"
        },
        "id": "kPqxOCfPzYS6",
        "outputId": "f1c9ef9a-458b-4bc1-e0aa-f4f7c5eba1b2"
      },
      "source": [
        "from keras.models import Model\n",
        "model =  build_model()\n",
        "model.summary()"
      ],
      "execution_count": null,
      "outputs": [
        {
          "output_type": "stream",
          "name": "stdout",
          "text": [
            "Model: \"model\"\n",
            "_________________________________________________________________\n",
            "Layer (type)                 Output Shape              Param #   \n",
            "=================================================================\n",
            "ImageInput (InputLayer)      [(None, 224, 224, 3)]     0         \n",
            "_________________________________________________________________\n",
            "Conv1_1 (Conv2D)             (None, 224, 224, 64)      1792      \n",
            "_________________________________________________________________\n",
            "Conv1_2 (Conv2D)             (None, 224, 224, 64)      36928     \n",
            "_________________________________________________________________\n",
            "pool1 (MaxPooling2D)         (None, 112, 112, 64)      0         \n",
            "_________________________________________________________________\n",
            "Conv2_1 (SeparableConv2D)    (None, 112, 112, 128)     8896      \n",
            "_________________________________________________________________\n",
            "Conv2_2 (SeparableConv2D)    (None, 112, 112, 128)     17664     \n",
            "_________________________________________________________________\n",
            "pool2 (MaxPooling2D)         (None, 56, 56, 128)       0         \n",
            "_________________________________________________________________\n",
            "Conv3_1 (SeparableConv2D)    (None, 56, 56, 256)       34176     \n",
            "_________________________________________________________________\n",
            "bn1 (BatchNormalization)     (None, 56, 56, 256)       1024      \n",
            "_________________________________________________________________\n",
            "Conv3_2 (SeparableConv2D)    (None, 56, 56, 256)       68096     \n",
            "_________________________________________________________________\n",
            "bn2 (BatchNormalization)     (None, 56, 56, 256)       1024      \n",
            "_________________________________________________________________\n",
            "Conv3_3 (SeparableConv2D)    (None, 56, 56, 256)       68096     \n",
            "_________________________________________________________________\n",
            "pool3 (MaxPooling2D)         (None, 28, 28, 256)       0         \n",
            "_________________________________________________________________\n",
            "Conv4_1 (SeparableConv2D)    (None, 28, 28, 512)       133888    \n",
            "_________________________________________________________________\n",
            "bn3 (BatchNormalization)     (None, 28, 28, 512)       2048      \n",
            "_________________________________________________________________\n",
            "Conv4_2 (SeparableConv2D)    (None, 28, 28, 512)       267264    \n",
            "_________________________________________________________________\n",
            "bn4 (BatchNormalization)     (None, 28, 28, 512)       2048      \n",
            "_________________________________________________________________\n",
            "Conv4_3 (SeparableConv2D)    (None, 28, 28, 512)       267264    \n",
            "_________________________________________________________________\n",
            "pool4 (MaxPooling2D)         (None, 14, 14, 512)       0         \n",
            "_________________________________________________________________\n",
            "flatten (Flatten)            (None, 100352)            0         \n",
            "_________________________________________________________________\n",
            "fc1 (Dense)                  (None, 1024)              102761472 \n",
            "_________________________________________________________________\n",
            "dropout1 (Dropout)           (None, 1024)              0         \n",
            "_________________________________________________________________\n",
            "fc2 (Dense)                  (None, 512)               524800    \n",
            "_________________________________________________________________\n",
            "dropout2 (Dropout)           (None, 512)               0         \n",
            "_________________________________________________________________\n",
            "fc3 (Dense)                  (None, 2)                 1026      \n",
            "=================================================================\n",
            "Total params: 104,197,506\n",
            "Trainable params: 104,194,434\n",
            "Non-trainable params: 3,072\n",
            "_________________________________________________________________\n"
          ]
        }
      ]
    },
    {
      "cell_type": "code",
      "metadata": {
        "colab": {
          "base_uri": "https://localhost:8080/"
        },
        "id": "T98Ch3Tb0Z9j",
        "outputId": "75cea601-92fd-46b1-e447-cd68aab26f21"
      },
      "source": [
        "import h5py\n",
        "h5py.run_tests()"
      ],
      "execution_count": null,
      "outputs": [
        {
          "output_type": "execute_result",
          "data": {
            "text/plain": [
              "1"
            ]
          },
          "metadata": {},
          "execution_count": 14
        }
      ]
    },
    {
      "cell_type": "markdown",
      "metadata": {
        "id": "MCalt1Mj2tsA"
      },
      "source": [
        "The h5py package is a Pythonic interface to the HDF5 binary data format. It lets you store huge amounts of numerical data, and easily manipulate that data from NumPy."
      ]
    },
    {
      "cell_type": "code",
      "metadata": {
        "colab": {
          "base_uri": "https://localhost:8080/"
        },
        "id": "M8Mj5tGk1h4e",
        "outputId": "ca962238-a7b0-4fc8-9570-4950c1f2d258"
      },
      "source": [
        "import h5py\n",
        "\n",
        "# Open the VGG16 weight file\n",
        "f = h5py.File('/content/drive/MyDrive/SaaS/AI/vgg16_weights_tf_dim_ordering_tf_kernels_notop.h5' ,'r')\n",
        "\n",
        "# Select the layers for which you want to set weight.\n",
        "\n",
        "w,b = f['block1_conv1']['block1_conv1_W_1:0'], f['block1_conv1']['block1_conv1_b_1:0']\n",
        "model.layers[1].set_weights = [w,b]\n",
        "\n",
        "w,b = f['block1_conv2']['block1_conv2_W_1:0'], f['block1_conv2']['block1_conv2_b_1:0']\n",
        "model.layers[2].set_weights = [w,b]\n",
        "\n",
        "w,b = f['block2_conv1']['block2_conv1_W_1:0'], f['block2_conv1']['block2_conv1_b_1:0']\n",
        "model.layers[4].set_weights = [w,b]\n",
        "\n",
        "w,b = f['block2_conv2']['block2_conv2_W_1:0'], f['block2_conv2']['block2_conv2_b_1:0']\n",
        "model.layers[5].set_weights = [w,b]\n",
        "\n",
        "f.close()\n",
        "model.summary()    "
      ],
      "execution_count": null,
      "outputs": [
        {
          "output_type": "stream",
          "name": "stdout",
          "text": [
            "Model: \"model\"\n",
            "_________________________________________________________________\n",
            "Layer (type)                 Output Shape              Param #   \n",
            "=================================================================\n",
            "ImageInput (InputLayer)      [(None, 224, 224, 3)]     0         \n",
            "_________________________________________________________________\n",
            "Conv1_1 (Conv2D)             (None, 224, 224, 64)      1792      \n",
            "_________________________________________________________________\n",
            "Conv1_2 (Conv2D)             (None, 224, 224, 64)      36928     \n",
            "_________________________________________________________________\n",
            "pool1 (MaxPooling2D)         (None, 112, 112, 64)      0         \n",
            "_________________________________________________________________\n",
            "Conv2_1 (SeparableConv2D)    (None, 112, 112, 128)     8896      \n",
            "_________________________________________________________________\n",
            "Conv2_2 (SeparableConv2D)    (None, 112, 112, 128)     17664     \n",
            "_________________________________________________________________\n",
            "pool2 (MaxPooling2D)         (None, 56, 56, 128)       0         \n",
            "_________________________________________________________________\n",
            "Conv3_1 (SeparableConv2D)    (None, 56, 56, 256)       34176     \n",
            "_________________________________________________________________\n",
            "bn1 (BatchNormalization)     (None, 56, 56, 256)       1024      \n",
            "_________________________________________________________________\n",
            "Conv3_2 (SeparableConv2D)    (None, 56, 56, 256)       68096     \n",
            "_________________________________________________________________\n",
            "bn2 (BatchNormalization)     (None, 56, 56, 256)       1024      \n",
            "_________________________________________________________________\n",
            "Conv3_3 (SeparableConv2D)    (None, 56, 56, 256)       68096     \n",
            "_________________________________________________________________\n",
            "pool3 (MaxPooling2D)         (None, 28, 28, 256)       0         \n",
            "_________________________________________________________________\n",
            "Conv4_1 (SeparableConv2D)    (None, 28, 28, 512)       133888    \n",
            "_________________________________________________________________\n",
            "bn3 (BatchNormalization)     (None, 28, 28, 512)       2048      \n",
            "_________________________________________________________________\n",
            "Conv4_2 (SeparableConv2D)    (None, 28, 28, 512)       267264    \n",
            "_________________________________________________________________\n",
            "bn4 (BatchNormalization)     (None, 28, 28, 512)       2048      \n",
            "_________________________________________________________________\n",
            "Conv4_3 (SeparableConv2D)    (None, 28, 28, 512)       267264    \n",
            "_________________________________________________________________\n",
            "pool4 (MaxPooling2D)         (None, 14, 14, 512)       0         \n",
            "_________________________________________________________________\n",
            "flatten (Flatten)            (None, 100352)            0         \n",
            "_________________________________________________________________\n",
            "fc1 (Dense)                  (None, 1024)              102761472 \n",
            "_________________________________________________________________\n",
            "dropout1 (Dropout)           (None, 1024)              0         \n",
            "_________________________________________________________________\n",
            "fc2 (Dense)                  (None, 512)               524800    \n",
            "_________________________________________________________________\n",
            "dropout2 (Dropout)           (None, 512)               0         \n",
            "_________________________________________________________________\n",
            "fc3 (Dense)                  (None, 2)                 1026      \n",
            "=================================================================\n",
            "Total params: 104,197,506\n",
            "Trainable params: 104,194,434\n",
            "Non-trainable params: 3,072\n",
            "_________________________________________________________________\n"
          ]
        }
      ]
    },
    {
      "cell_type": "code",
      "metadata": {
        "id": "SLt7m_5A1vHt"
      },
      "source": [
        "\n",
        "import tensorflow as tf\n",
        "from keras.callbacks import ModelCheckpoint, Callback, EarlyStopping\n",
        "\n",
        "# opt = RMSprop(lr=0.0001, decay=1e-6)\n",
        "opt = tf.keras.optimizers.Adam(learning_rate=0.0001, decay=1e-5)\n",
        "es = EarlyStopping(patience=5)\n",
        "chkpt = ModelCheckpoint(filepath='best_model_todate', save_best_only=True, save_weights_only=True)\n",
        "model.compile(loss='binary_crossentropy', metrics=['accuracy'],optimizer=opt)"
      ],
      "execution_count": null,
      "outputs": []
    },
    {
      "cell_type": "code",
      "metadata": {
        "colab": {
          "base_uri": "https://localhost:8080/"
        },
        "id": "fPSH9aEa45fr",
        "outputId": "df05c463-eb89-451a-84c2-f9c5d8598f6c"
      },
      "source": [
        "batch_size = 16\n",
        "nb_epochs = 20\n",
        "\n",
        "# Get a train data generator\n",
        "train_data_gen = data_gen(data=train_data, batch_size=batch_size)\n",
        "\n",
        "# Define the number of training steps\n",
        "nb_train_steps = train_data.shape[0]//batch_size\n",
        "\n",
        "print(\"Number of training and validation steps: {} and {}\".format(nb_train_steps, len(valid_data)))"
      ],
      "execution_count": null,
      "outputs": [
        {
          "output_type": "stream",
          "name": "stdout",
          "text": [
            "Number of training and validation steps: 328 and 16\n"
          ]
        }
      ]
    },
    {
      "cell_type": "code",
      "metadata": {
        "colab": {
          "base_uri": "https://localhost:8080/"
        },
        "id": "SoMO0mAcGY0i",
        "outputId": "4cd5f92f-6251-43a3-8355-6814ace3a1ed"
      },
      "source": [
        "# # Fit the model\n",
        "history = model.fit_generator(train_data_gen, epochs=nb_epochs, steps_per_epoch=nb_train_steps,\n",
        "                              validation_data=(valid_data, valid_labels),callbacks=[es, chkpt],\n",
        "                              class_weight={0:1.0, 1:0.4})"
      ],
      "execution_count": null,
      "outputs": [
        {
          "output_type": "stream",
          "name": "stderr",
          "text": [
            "/usr/local/lib/python3.7/dist-packages/keras/engine/training.py:1972: UserWarning: `Model.fit_generator` is deprecated and will be removed in a future version. Please use `Model.fit`, which supports generators.\n",
            "  warnings.warn('`Model.fit_generator` is deprecated and '\n"
          ]
        },
        {
          "output_type": "stream",
          "name": "stdout",
          "text": [
            "Epoch 1/20\n",
            "328/328 [==============================] - 1507s 5s/step - loss: 0.2372 - accuracy: 0.7561 - val_loss: 0.8157 - val_accuracy: 0.5000\n",
            "Epoch 2/20\n",
            "328/328 [==============================] - 780s 2s/step - loss: 0.0731 - accuracy: 0.9501 - val_loss: 1.5083 - val_accuracy: 0.5000\n",
            "Epoch 3/20\n",
            "328/328 [==============================] - 469s 1s/step - loss: 0.0583 - accuracy: 0.9617 - val_loss: 1.2745 - val_accuracy: 0.5000\n",
            "Epoch 4/20\n",
            "328/328 [==============================] - 291s 888ms/step - loss: 0.0455 - accuracy: 0.9699 - val_loss: 0.3355 - val_accuracy: 0.8750\n",
            "Epoch 5/20\n",
            "328/328 [==============================] - 216s 658ms/step - loss: 0.0390 - accuracy: 0.9743 - val_loss: 0.0968 - val_accuracy: 0.9375\n",
            "Epoch 6/20\n",
            "328/328 [==============================] - 178s 542ms/step - loss: 0.0436 - accuracy: 0.9695 - val_loss: 0.2705 - val_accuracy: 0.8750\n",
            "Epoch 7/20\n",
            "328/328 [==============================] - 172s 525ms/step - loss: 0.0332 - accuracy: 0.9788 - val_loss: 0.1724 - val_accuracy: 0.9375\n",
            "Epoch 8/20\n",
            "328/328 [==============================] - 171s 521ms/step - loss: 0.0282 - accuracy: 0.9825 - val_loss: 0.2163 - val_accuracy: 0.8750\n",
            "Epoch 9/20\n",
            "328/328 [==============================] - 168s 513ms/step - loss: 0.0266 - accuracy: 0.9804 - val_loss: 0.1032 - val_accuracy: 0.9375\n",
            "Epoch 10/20\n",
            "328/328 [==============================] - 168s 514ms/step - loss: 0.0259 - accuracy: 0.9817 - val_loss: 0.0801 - val_accuracy: 0.9375\n",
            "Epoch 11/20\n",
            "328/328 [==============================] - 169s 514ms/step - loss: 0.0246 - accuracy: 0.9842 - val_loss: 0.1827 - val_accuracy: 0.9375\n",
            "Epoch 12/20\n",
            "328/328 [==============================] - 169s 514ms/step - loss: 0.0221 - accuracy: 0.9846 - val_loss: 0.1064 - val_accuracy: 0.9375\n",
            "Epoch 13/20\n",
            "328/328 [==============================] - 169s 514ms/step - loss: 0.0241 - accuracy: 0.9861 - val_loss: 0.6671 - val_accuracy: 0.7500\n",
            "Epoch 14/20\n",
            "328/328 [==============================] - 168s 514ms/step - loss: 0.0183 - accuracy: 0.9884 - val_loss: 0.2895 - val_accuracy: 0.8125\n",
            "Epoch 15/20\n",
            "328/328 [==============================] - 168s 513ms/step - loss: 0.0159 - accuracy: 0.9886 - val_loss: 0.9038 - val_accuracy: 0.6250\n"
          ]
        }
      ]
    },
    {
      "cell_type": "code",
      "metadata": {
        "id": "z43sFP2mGp33"
      },
      "source": [
        "# Load the model weights\n",
        "model.load_weights(\"/content/drive/MyDrive/SaaS/AI/best_model.hdf5\", by_name = True)"
      ],
      "execution_count": null,
      "outputs": []
    },
    {
      "cell_type": "code",
      "metadata": {
        "id": "rXEIUmkhlWKY",
        "colab": {
          "base_uri": "https://localhost:8080/"
        },
        "outputId": "69cab745-9d4d-42f4-992d-f3ef0100eb35"
      },
      "source": [
        "# Preparing test data\n",
        "\n",
        "\n",
        "case_dir = \"/content/drive/MyDrive/SaaS/AI/chest_xray/chest_xray/test\"\n",
        "\n",
        "\n",
        "normal_cases = glob(case_dir+ \"/NORMAL/*.jpeg\") \n",
        "pneumonia_cases = glob(case_dir+ \"/PNEUMONIA/*.jpeg\")\n",
        "\n",
        "test_data = []\n",
        "test_labels = []\n",
        "\n",
        "for img in normal_cases:\n",
        "    img = cv2.imread(str(img))\n",
        "    img = cv2.resize(img, (224,224))\n",
        "    if img.shape[2] ==1:\n",
        "        img = np.dstack([img, img, img])\n",
        "    else:\n",
        "        img = cv2.cvtColor(img, cv2.COLOR_BGR2RGB)\n",
        "    img = img.astype(np.float32)/255.\n",
        "    label = to_categorical(0, num_classes=2)\n",
        "    test_data.append(img)\n",
        "    test_labels.append(label)\n",
        "                      \n",
        "for img in pneumonia_cases:\n",
        "    img = cv2.imread(str(img))\n",
        "    img = cv2.resize(img, (224,224))\n",
        "    if img.shape[2] ==1:\n",
        "        img = np.dstack([img, img, img])\n",
        "    else:\n",
        "        img = cv2.cvtColor(img, cv2.COLOR_BGR2RGB)\n",
        "    img = img.astype(np.float32)/255.\n",
        "    label = to_categorical(1, num_classes=2)\n",
        "    test_data.append(img)\n",
        "    test_labels.append(label)\n",
        "    \n",
        "\n",
        "test_data = np.array(test_data)\n",
        "test_labels = np.array(test_labels)\n",
        "\n",
        "print(\"Total number of test examples: \", test_data.shape)\n",
        "print(\"Total number of labels:\", test_labels.shape)"
      ],
      "execution_count": null,
      "outputs": [
        {
          "output_type": "stream",
          "name": "stdout",
          "text": [
            "Total number of test examples:  (624, 224, 224, 3)\n",
            "Total number of labels: (624, 2)\n"
          ]
        }
      ]
    },
    {
      "cell_type": "code",
      "metadata": {
        "id": "xT0k6LYDlf-_",
        "colab": {
          "base_uri": "https://localhost:8080/"
        },
        "outputId": "3e6cf77a-0dff-4e48-93e6-532e9d9b4519"
      },
      "source": [
        "# Evaluation on test dataset\n",
        "test_loss, test_score = model.evaluate(test_data, test_labels, batch_size=16)\n",
        "print(\"Loss on test set: \", test_loss)\n",
        "print(\"Accuracy on test set: \", test_score)"
      ],
      "execution_count": null,
      "outputs": [
        {
          "output_type": "stream",
          "name": "stdout",
          "text": [
            "39/39 [==============================] - 5s 120ms/step - loss: 2.0769 - accuracy: 0.6955\n",
            "Loss on test set:  2.0768985748291016\n",
            "Accuracy on test set:  0.6955128312110901\n"
          ]
        }
      ]
    },
    {
      "cell_type": "code",
      "metadata": {
        "id": "HOVelsn9li3K",
        "colab": {
          "base_uri": "https://localhost:8080/"
        },
        "outputId": "927aa6de-2780-46f9-bff0-279f90cef80f"
      },
      "source": [
        "# Get predictions\n",
        "preds = model.predict(test_data, batch_size=16)\n",
        "preds = np.argmax(preds, axis=-1)\n",
        "\n",
        "# Original labels\n",
        "orig_test_labels = np.argmax(test_labels, axis=-1)\n",
        "\n",
        "print(orig_test_labels.shape)\n",
        "print(preds.shape)"
      ],
      "execution_count": null,
      "outputs": [
        {
          "output_type": "stream",
          "name": "stdout",
          "text": [
            "(624,)\n",
            "(624,)\n"
          ]
        }
      ]
    },
    {
      "cell_type": "code",
      "metadata": {
        "id": "50hGWvxOllAD",
        "colab": {
          "base_uri": "https://localhost:8080/",
          "height": 519
        },
        "outputId": "c0172699-b27f-4acc-e73a-c5e2d822f4c7"
      },
      "source": [
        "from sklearn.metrics import confusion_matrix\n",
        "from mlxtend.plotting import plot_confusion_matrix\n",
        "\n",
        "# Get the confusion matrix\n",
        "cm  = confusion_matrix(orig_test_labels, preds)\n",
        "plt.figure()\n",
        "plot_confusion_matrix(cm,figsize=(12,8), hide_ticks=True, cmap=plt.cm.Blues)\n",
        "plt.xticks(range(2), ['Normal', 'Pneumonia'], fontsize=16)\n",
        "plt.yticks(range(2), ['Normal', 'Pneumonia'], fontsize=16)\n",
        "plt.show()"
      ],
      "execution_count": null,
      "outputs": [
        {
          "output_type": "display_data",
          "data": {
            "text/plain": [
              "<Figure size 432x288 with 0 Axes>"
            ]
          },
          "metadata": {}
        },
        {
          "output_type": "display_data",
          "data": {
            "image/png": "[encoded data removed]",
            "text/plain": [
              "<Figure size 864x576 with 1 Axes>"
            ]
          },
          "metadata": {
            "needs_background": "light"
          }
        }
      ]
    },
    {
      "cell_type": "code",
      "metadata": {
        "id": "ap6mZQfplnae",
        "colab": {
          "base_uri": "https://localhost:8080/"
        },
        "outputId": "b7f1fcd5-8548-4720-f98e-bb1a70ecf1e4"
      },
      "source": [
        "# Calculate Precision and Recall\n",
        "tn, fp, fn, tp = cm.ravel()\n",
        "\n",
        "precision = tp/(tp+fp)\n",
        "recall = tp/(tp+fn)\n",
        "\n",
        "print(\"Recall of the model is {:.2f}\".format(recall))\n",
        "print(\"Precision of the model is {:.2f}\".format(precision))"
      ],
      "execution_count": null,
      "outputs": [
        {
          "output_type": "stream",
          "name": "stdout",
          "text": [
            "Recall of the model is 1.00\n",
            "Precision of the model is 0.67\n"
          ]
        }
      ]
    }
  ]
}